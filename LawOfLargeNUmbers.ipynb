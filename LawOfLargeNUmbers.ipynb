{
 "cells": [
  {
   "cell_type": "markdown",
   "id": "dab4be9f-3498-4271-849c-189b995dbfb5",
   "metadata": {},
   "source": [
    "### THE LAW OF LARGE NUMBERS"
   ]
  },
  {
   "cell_type": "markdown",
   "id": "879a2269-6e9a-48a4-86d0-cb47f14145ef",
   "metadata": {},
   "source": [
    "Due to the stochastic nature of Monte Carlo simulations, each simulation result can be very different. \n",
    "Here we'll leverage the Law of Large Numbers to simulate inflation in 2050 based on the average of a large number of simulations."
   ]
  },
  {
   "cell_type": "code",
   "execution_count": 5,
   "id": "7730b3ee-9b74-4dff-a502-769a9d56a724",
   "metadata": {},
   "outputs": [],
   "source": [
    "import random \n",
    "import numpy as np\n",
    "def monte_carlo_inflation(year, seed):\n",
    "    random.seed(seed)\n",
    "    inflation_rate = 8.6\n",
    "    yearly_increase = random.randint(1, 3)\n",
    "    for i in range(year - 2022):\n",
    "        inflation_rate = inflation_rate * ((100 + yearly_increase)/100)\n",
    "    return(inflation_rate)"
   ]
  },
  {
   "cell_type": "code",
   "execution_count": 8,
   "id": "f8ee5de4-c9bc-42ea-995c-974adb7c20ea",
   "metadata": {},
   "outputs": [
    {
     "name": "stdout",
     "output_type": "stream",
     "text": [
      "16.132214936839485\n",
      "15.56123627792314\n",
      "15.530828730932726\n",
      "15.538496360463599\n"
     ]
    }
   ],
   "source": [
    "# Calculate the average of 1,0 simulation results with a seed between 0 and 20000\n",
    "rates_1 = []\n",
    "for i in range(10):\n",
    "    seed = random.randint(0, 20000)\n",
    "    rates_1.append(monte_carlo_inflation(2050, seed))\n",
    "print(np.mean(rates_1))\n",
    "\n",
    "# Calculate the average of 1,00 simulation results with a seed between 0 and 20000\n",
    "rates_1 = []\n",
    "for i in range(100):\n",
    "    seed = random.randint(0, 20000)\n",
    "    rates_1.append(monte_carlo_inflation(2050, seed))\n",
    "print(np.mean(rates_1))\n",
    "\n",
    "# Calculate the average of 1,000 simulation results with a seed between 0 and 20000\n",
    "rates_1 = []\n",
    "for i in range(1000):\n",
    "    seed = random.randint(0, 20000)\n",
    "    rates_1.append(monte_carlo_inflation(2050, seed))\n",
    "print(np.mean(rates_1))\n",
    "\n",
    "# Calculate the average of 10,000 simulation results with a seed between 0 and 20000\n",
    "rates_2 = []\n",
    "for i in range(10000):\n",
    "    seed = random.randint(0, 20000)\n",
    "    rates_2.append(monte_carlo_inflation(2050, seed))\n",
    "print(np.mean(rates_2))"
   ]
  },
  {
   "cell_type": "code",
   "execution_count": null,
   "id": "8f77832c-b2da-4087-a14e-f784b90955e4",
   "metadata": {},
   "outputs": [],
   "source": []
  },
  {
   "cell_type": "code",
   "execution_count": null,
   "id": "584c14a8-7f7a-447d-83c3-a882701c9933",
   "metadata": {},
   "outputs": [],
   "source": []
  },
  {
   "cell_type": "code",
   "execution_count": null,
   "id": "07c6b8e0-ab89-4103-8062-4f6bb9915a2e",
   "metadata": {},
   "outputs": [],
   "source": []
  },
  {
   "cell_type": "code",
   "execution_count": null,
   "id": "a9022533-dea6-4991-908e-0963d22ca336",
   "metadata": {},
   "outputs": [],
   "source": []
  },
  {
   "cell_type": "code",
   "execution_count": null,
   "id": "66e11d42-8fae-471c-91d0-04076e80b0b8",
   "metadata": {},
   "outputs": [],
   "source": []
  },
  {
   "cell_type": "code",
   "execution_count": null,
   "id": "e2af9d9c-3847-4739-8101-813dbe64babe",
   "metadata": {},
   "outputs": [],
   "source": []
  },
  {
   "cell_type": "code",
   "execution_count": null,
   "id": "ecec2bcd-56fe-44fe-8e2f-c6a5d300bb00",
   "metadata": {},
   "outputs": [],
   "source": []
  },
  {
   "cell_type": "code",
   "execution_count": null,
   "id": "370e9284-470e-413e-ae5b-b2222d4a168b",
   "metadata": {},
   "outputs": [],
   "source": []
  }
 ],
 "metadata": {
  "kernelspec": {
   "display_name": "Python 3 (ipykernel)",
   "language": "python",
   "name": "python3"
  },
  "language_info": {
   "codemirror_mode": {
    "name": "ipython",
    "version": 3
   },
   "file_extension": ".py",
   "mimetype": "text/x-python",
   "name": "python",
   "nbconvert_exporter": "python",
   "pygments_lexer": "ipython3",
   "version": "3.10.13"
  }
 },
 "nbformat": 4,
 "nbformat_minor": 5
}
