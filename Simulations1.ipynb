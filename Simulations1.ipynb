{
 "cells": [
  {
   "cell_type": "markdown",
   "id": "51ff85af-17ca-436b-b4be-81d3f119d47a",
   "metadata": {},
   "source": [
    "### Simulations\n",
    "Simulations are a class of computational algorithms that use the relatively simple idea of random sampling to solve increasingly complex problems. Although they have been around for ages, they have gained in popularity recently due to the rise in computational power and have seen applications in multiple domains including Artificial Intelligence, Physics, Computational Biology and Finance just to name a few. Students will use simulations to generate and analyze data over different probability distributions using the important NumPy package. This course will give students hands-on experience with simulations using simple, real-world applications.\n",
    "\n"
   ]
  },
  {
   "cell_type": "markdown",
   "id": "5c6332e8-2646-4b5c-aa29-5f162168cc11",
   "metadata": {},
   "source": [
    "### Introduction to random variables\n",
    "\n",
    "A random variable is a quantity that can take on multiple values based on random chance. When the variable can take on infinitely many values, it's called a continuous random variable. Think about the height of a person. Although the height lies within some reasonable limits on average, the actual value could have infinite possibilities in that interval. That is why we term it as a continuous random variable.\n",
    "\n",
    "Similarly, if the variable can only take a finite set of values, it is called a discrete random variable. The roll of a six-sided die can have only one of six possible outcomes and is thus, considered a discrete random variable. Next, let's look at probability distributions.\n",
    "\n",
    "### Probability distributions\n",
    "\n",
    "A probability distribution is a mapping from the set of possible outcomes of a random variable to the probability of observing that outcome. It tells you how likely you are to observe a given outcome or a set of outcomes. Just like random variables, probability distributions are either discrete or continuous depending on the type of random variable they represent. For continuous random variables, the distribution is represented by a probability density function and probability is typically defined over an interval. The normal distribution is an example of a continuous distribution.\n",
    "\n",
    "For discrete random variables, the distribution is represented by a probability mass function and probability can be defined at a single point or over an interval. Among discrete distributions, binomial and Poisson distributions are widely used. Python's numpy random module is a robust and flexible tool that lets us work with random variables.\n"
   ]
  },
  {
   "cell_type": "code",
   "execution_count": 1,
   "id": "63ad722e-47f6-40c0-848f-442f5ac65af9",
   "metadata": {},
   "outputs": [],
   "source": [
    "import numpy as np"
   ]
  },
  {
   "cell_type": "code",
   "execution_count": 8,
   "id": "51274f40-f9d6-4ec5-99a6-ff29edc56197",
   "metadata": {},
   "outputs": [
    {
     "data": {
      "text/plain": [
       "5"
      ]
     },
     "execution_count": 8,
     "metadata": {},
     "output_type": "execute_result"
    }
   ],
   "source": [
    "np.random.choice([1, 2, 3, 4, 5])"
   ]
  },
  {
   "cell_type": "markdown",
   "id": "25b9f1aa-ef34-437f-bd49-9b3f28926132",
   "metadata": {},
   "source": [
    "### Poisson distribution\n",
    "Using np.random.poisson() draw samples from a Poisson distribution using lam (lambda) and size_1.\n",
    "Repeat the above step, but this time use size_2.\n",
    "For each of the above samples, calculate the absolute difference between their mean and lambda using np.mean() and abs()."
   ]
  },
  {
   "cell_type": "code",
   "execution_count": 10,
   "id": "ec54b89d-c189-485c-bfa8-c1f7c01441a7",
   "metadata": {},
   "outputs": [
    {
     "name": "stdout",
     "output_type": "stream",
     "text": [
      "|Lambda - sample mean| with 3 samples is 0.33333333333333304 and with 1000 samples is 0.07699999999999996. \n"
     ]
    }
   ],
   "source": [
    "# Initialize seed and parameters\n",
    "np.random.seed(123) \n",
    "lam, size_1, size_2 = 5, 3, 1000  \n",
    "\n",
    "# Draw samples & calculate absolute difference between lambda and sample mean\n",
    "samples_1 = np.random.poisson(lam, size_1)\n",
    "samples_2 = np.random.poisson(lam, size_2)\n",
    "answer_1 = abs(samples_1.mean() - lam)\n",
    "answer_2 = abs(samples_2.mean() - lam) \n",
    "\n",
    "print(\"|Lambda - sample mean| with {} samples is {} and with {} samples is {}. \".format(size_1, answer_1, size_2, answer_2))"
   ]
  },
  {
   "cell_type": "code",
   "execution_count": 11,
   "id": "7c5e82b2-8b30-4618-88f3-ae5f68b2c44a",
   "metadata": {},
   "outputs": [],
   "source": [
    "deck_of_cards = [('Diamond', 9), ('Spade', 9), ('Spade', 4), ('Club', 11), ('Club', 5), ('Heart', 11), ('Club', 8), ('Club', 0), \n",
    "                 ('Diamond', 4), ('Heart', 0), ('Heart', 5), ('Heart', 10), ('Spade', 10), ('Heart', 8), ('Heart', 12), ('Spade', 5),\n",
    "                 ('Spade', 11), ('Heart', 1), ('Heart', 6), ('Spade', 3), ('Diamond', 1), ('Spade', 0), ('Diamond', 5), ('Club', 2), \n",
    "                 ('Spade', 1), ('Diamond', 10), ('Heart', 7), ('Club', 7), ('Diamond', 11), ('Heart', 3), ('Club', 10), ('Diamond', 7), \n",
    "                 ('Heart', 4), ('Club', 3), ('Diamond', 8), ('Club', 1), ('Diamond', 12), ('Club', 12), ('Diamond', 0), ('Diamond', 2), \n",
    "                 ('Heart', 9), ('Spade', 6), ('Spade', 7), ('Club', 9), ('Diamond', 3), ('Club', 6), ('Club', 4), ('Spade', 12), \n",
    "                 ('Spade', 8), ('Spade', 2), ('Heart', 2), ('Diamond', 6)]\n"
   ]
  },
  {
   "cell_type": "code",
   "execution_count": 12,
   "id": "c986dd2c-90e9-45c4-ba24-bcf9ab134c44",
   "metadata": {},
   "outputs": [
    {
     "name": "stdout",
     "output_type": "stream",
     "text": [
      "[('Club', 12), ('Heart', 5), ('Heart', 9)]\n"
     ]
    }
   ],
   "source": [
    "# Shuffle the deck\n",
    "np.random.shuffle(deck_of_cards) \n",
    "\n",
    "# Print out the top three cards\n",
    "card_choices_after_shuffle = deck_of_cards[0:3]\n",
    "print(card_choices_after_shuffle)"
   ]
  },
  {
   "cell_type": "markdown",
   "id": "5dd4e262-5402-44ed-8f38-d08aa4737395",
   "metadata": {},
   "source": [
    "Simulation is a framework that allows us to model real-world systems and processes. It's a very popular tool that has been applied in multiple domains. Simulations are typically characterized by repeated random sampling, which means that we use the power of random variables to generate multiple outcomes.\n",
    "\n",
    "Think of simulations as tossing a coin again and again to record the outcomes. Simulations typically give us an approximate solution. After recording the result of the coin tosses, you may find that after 100 tosses, you actually observe only 48 heads as opposed to 50. This is still a good enough approximation.\n",
    "\n",
    "Finally, as we'll see later in the course, using very simple modeling techniques, we can use simulations to solve pretty complex problems. Simulations perform particularly well in some areas where traditional methods don't give us a clean solution.\n",
    "\n",
    "### Simulation steps\n",
    "Simulations typically involves the following steps. 1) Define the set of outcomes associated with a random variable. 2) Assign a probability to each of these outcomes - the probability distribution. 3) Define the relationship between multiple random variables. These three steps essentially describe our statistical model.\n",
    "\n",
    "Draw samples from the probability distributions. 5) Analyze the sample outcomes. This might seem daunting at first, but we'll work through an example in the exercises to make it more clear.\n",
    "\n",
    "Simulating the dice game\n",
    "In the following exercises, you will be running your first simulation - a simple dice game. The dice game involves throwing two dice and winning if they show the same number. Thus, seeing 1 & 4 is a loss while 3 & 3 is a win. Let's see what we need for this simulation. For step 1 and 2 we first define the outcomes of the die and assign a probability to each outcome. Since both die A and B are fair dice, we can use identical probability distributions. Also since the probability of seeing each outcome is the same, this is a uniform distribution.\n",
    "\n",
    "<img src = simgame.png width ='800' height = '600'>\n",
    "\n",
    "8. Simulating the dice game\n",
    "In step 3, we define the relationship between each of the dice. If they show the same number, we win, otherwise we lose. Steps 1, 2, and 3 give us the statistical model underlying the simulation. For any complex simulation, this is essentially the foundation - describing the model.\n",
    "\n",
    "9. Simulating the dice game\n",
    "Finally in step 4, we generate multiple outcomes through repeated random sampling. Keep in mind that there is an additional step 5 where we'll need to analyze the outcomes but for now, let's focus on the first 4 steps and make sure we are comfortable with them."
   ]
  },
  {
   "cell_type": "code",
   "execution_count": 13,
   "id": "581722c2-71e7-44e2-b5b4-50b91293d5c7",
   "metadata": {},
   "outputs": [],
   "source": [
    "die1 = np.random.choice([1, 2, 3, 4, 5, 6])\n",
    "die2 = np.random.choice([1, 2, 3, 4, 5, 6])"
   ]
  },
  {
   "cell_type": "code",
   "execution_count": 46,
   "id": "f847cc0f-9ab5-42ad-8439-d063417ee9b3",
   "metadata": {
    "scrolled": true
   },
   "outputs": [],
   "source": [
    "sim_range,counter = 100000, 0\n",
    "for i in range(1, sim_range):\n",
    "    die1 = np.random.choice([1, 2, 3, 4, 5, 6])\n",
    "    die2 = np.random.choice([1, 2, 3, 4, 5, 6])\n",
    "    if die1 == die2: \n",
    "        counter +=1\n",
    "        \n",
    "        \n",
    "         "
   ]
  },
  {
   "cell_type": "code",
   "execution_count": 47,
   "id": "7f76d496-b88e-4598-8c54-37da817d04dd",
   "metadata": {},
   "outputs": [
    {
     "data": {
      "text/plain": [
       "0.16505"
      ]
     },
     "execution_count": 47,
     "metadata": {},
     "output_type": "execute_result"
    }
   ],
   "source": [
    "counter/sim_range"
   ]
  },
  {
   "cell_type": "code",
   "execution_count": 48,
   "id": "3fdff40d-9148-4d3a-a00f-273f66a5fe48",
   "metadata": {},
   "outputs": [],
   "source": [
    "### About 16% of probability"
   ]
  },
  {
   "cell_type": "markdown",
   "id": "1ff5ea23-ac79-4827-8030-615582fdf739",
   "metadata": {},
   "source": [
    "### Another implementation "
   ]
  },
  {
   "cell_type": "code",
   "execution_count": 52,
   "id": "f5c9aff5-d6f5-4e09-ac1d-2fbaaca389b7",
   "metadata": {},
   "outputs": [
    {
     "name": "stdout",
     "output_type": "stream",
     "text": [
      "In 100000 games, you win 16673 times\n"
     ]
    }
   ],
   "source": [
    "# Initialize model parameters & simulate dice throw\n",
    "die, probabilities, num_dice = [1,2,3,4,5,6], [1/6, 1/6, 1/6, 1/6, 1/6, 1/6], 2\n",
    "sims, wins = 100000, 0\n",
    "\n",
    "for i in range(sims):\n",
    "    outcomes = np.random.choice(die, size=num_dice, p=probabilities) \n",
    "    # Increment `wins` by 1 if the dice show same number\n",
    "    if outcomes[0] == outcomes[1]:\n",
    "        wins = wins + 1\n",
    "\n",
    "print(\"In {} games, you win {} times\".format(sims, wins))"
   ]
  },
  {
   "cell_type": "code",
   "execution_count": 53,
   "id": "c751af0d-3976-4ed4-aea0-fcb583f1d927",
   "metadata": {},
   "outputs": [
    {
     "data": {
      "text/plain": [
       "array([2, 1])"
      ]
     },
     "execution_count": 53,
     "metadata": {},
     "output_type": "execute_result"
    }
   ],
   "source": [
    "outcomes = np.random.choice(die, size=num_dice, p=probabilities)\n",
    "outcomes"
   ]
  },
  {
   "cell_type": "markdown",
   "id": "94eaf1d8-4d01-4871-91be-c2720aa92e7e",
   "metadata": {},
   "source": [
    "### Generalized version of a simple simulation workflow. \n",
    "- Here is a more generalized version of the simple simulation workflow you used in the previous exercise :\n",
    "  \n",
    "   -  Steps 1 and 2 involve defining the outcomes for random variables and assigning probabilities. We could also have constants   entering the model in this step.\n",
    "   -  Step 3 involves defining the relationship between model parameters.\n",
    "   -  In step 4, we repeatedly sample from the distributions of A & B to generate outcomes. Finally in\n",
    "   -  In step 5, we analyze outcomes.\n",
    "\n",
    "\n",
    "- Simulations let us ask nuanced questions of the model, questions which might not necessarily have easy analytical solutions. This is\n",
    "because we can easily modify model inputs and see how the final outcomes are affected. For example, we might want to ask how the \n",
    "outcome will change if the probability distribution of B changes. In this case, we would just simulate a new set of outcomes after \n",
    "changing B. Let's see what happens if we do that.\n",
    "\n",
    "\n",
    "- We might find that as a result of the change in B, the distribution of outcomes has changed significantly. This might help us decide, \n",
    "for instance, that we should not have a particular stock in our portfolio. It helps us see how sensitive out model is to changes in B.\n",
    "\n",
    "\n",
    "- Another case where we use simulations is when we might want to see what values of a particular input get us the desired output. For \n",
    "instance, we might want to find the lowest value of the constant C for which the mean of the outcome distribution is 5.\n",
    "\n",
    "\n",
    "- In this case, all we need to do is just iteratively keep changing the value of the constant C and record the outcomes. We will do this \n",
    "many times and keep recording the outcomes.\n",
    "\n",
    "\n",
    "- Finally, we can choose the value of C where the mean of the outcome distribution is 5. Using simulation for making decisions is as \n",
    "easy as that! Such a simulation could, for example, help us decide the right price at which it is \n",
    "still profitable to invest in a loan."
   ]
  },
  {
   "cell_type": "markdown",
   "id": "2ac41a69-b028-4194-9e7e-24c41d56ba93",
   "metadata": {},
   "source": [
    "### Using simulation for decision making\n",
    "\n",
    "<img src = 'simulations.png' width = \"900\" height = \"700\">"
   ]
  },
  {
   "cell_type": "markdown",
   "id": "bee9662a-5975-461a-8062-c4a727bbdcbe",
   "metadata": {},
   "source": [
    "### Simulating one lottery drawing\n",
    "In the last three exercises of this chapter, we will be bringing together everything you've learned so far. We will run a complete simulation, take a decision based on our observed outcomes, and learn to modify inputs to the simulation model.\n",
    "\n",
    "We will use simulations to figure out whether or not we want to buy a lottery ticket. Suppose you have the opportunity to buy a lottery ticket which gives you a shot at a grand prize of $10,000. \n",
    "\n",
    "Since there are 1000 tickets in total, your probability of winning is 1 in 1000. \n",
    "Each ticket costs $10. Let's use our understanding of basic simulations to first simulate one drawing of the lottery"
   ]
  },
  {
   "cell_type": "code",
   "execution_count": null,
   "id": "9516dd77-c876-4209-9229-6b22235f9341",
   "metadata": {},
   "outputs": [],
   "source": []
  },
  {
   "cell_type": "code",
   "execution_count": null,
   "id": "b0dd731c-ff8a-47e3-bf10-87bae05f0098",
   "metadata": {},
   "outputs": [],
   "source": []
  },
  {
   "cell_type": "code",
   "execution_count": null,
   "id": "ed1c536d-2dcd-4e6a-805a-57474f5849a2",
   "metadata": {},
   "outputs": [],
   "source": []
  },
  {
   "cell_type": "code",
   "execution_count": null,
   "id": "8e187962-ebea-48ae-a790-fce027391edd",
   "metadata": {},
   "outputs": [],
   "source": []
  },
  {
   "cell_type": "code",
   "execution_count": null,
   "id": "0ef0ddb2-bda3-44d6-bea0-0cdd38a07c3f",
   "metadata": {},
   "outputs": [],
   "source": []
  },
  {
   "cell_type": "code",
   "execution_count": null,
   "id": "9500f332-d904-4edb-ae1c-668a1586eae9",
   "metadata": {},
   "outputs": [],
   "source": []
  },
  {
   "cell_type": "code",
   "execution_count": null,
   "id": "8a65e4fc-1cdd-4d00-94cb-f3bdd4538227",
   "metadata": {},
   "outputs": [],
   "source": []
  }
 ],
 "metadata": {
  "kernelspec": {
   "display_name": "Python 3 (ipykernel)",
   "language": "python",
   "name": "python3"
  },
  "language_info": {
   "codemirror_mode": {
    "name": "ipython",
    "version": 3
   },
   "file_extension": ".py",
   "mimetype": "text/x-python",
   "name": "python",
   "nbconvert_exporter": "python",
   "pygments_lexer": "ipython3",
   "version": "3.10.13"
  }
 },
 "nbformat": 4,
 "nbformat_minor": 5
}
