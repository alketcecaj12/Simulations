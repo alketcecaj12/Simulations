{
 "cells": [
  {
   "cell_type": "markdown",
   "id": "fc339161-8717-4b44-80da-bd125400e2c4",
   "metadata": {},
   "source": [
    "### Simulations typically involves the following steps.\n",
    "\n",
    "- 1) Define the set of outcomes associated with a random variable.\n",
    "- 2) Assign a probability to each of these outcomes - the probability distribution.\n",
    "- 3) Define the relationship between multiple random variables. These three steps essentially describe our statistical model.\n",
    "- 4) Draw samples from the probability distributions.\n",
    "- 5) Analyze the sample outcomes. "
   ]
  },
  {
   "cell_type": "code",
   "execution_count": 39,
   "id": "e16745fd-3507-4ff5-9d90-c8cfa0279142",
   "metadata": {},
   "outputs": [],
   "source": [
    "import numpy as np"
   ]
  },
  {
   "cell_type": "code",
   "execution_count": 40,
   "id": "5adef1cf-90d3-47c1-90a6-97fde5b37797",
   "metadata": {},
   "outputs": [],
   "source": [
    "# Initialize seed and parameters\n",
    "np.random.seed(123) \n",
    "lam, size_1, size_2 = 5, 3, 1000  "
   ]
  },
  {
   "cell_type": "code",
   "execution_count": 41,
   "id": "8f01c12c-6df8-436f-b288-3b6b95a49f17",
   "metadata": {},
   "outputs": [
    {
     "name": "stdout",
     "output_type": "stream",
     "text": [
      "|Lambda - sample mean| with 3 samples is 0.33333333333333304 and with 1000 samples is 0.07699999999999996. \n"
     ]
    }
   ],
   "source": [
    "# Draw samples & calculate absolute difference between lambda and sample mean\n",
    "samples_1 = np.random.poisson(lam, size_1)\n",
    "samples_2 = np.random.poisson(lam, size_2)\n",
    "answer_1 = abs(samples_1.mean() - lam)\n",
    "answer_2 = abs(samples_2.mean() - lam) \n",
    "\n",
    "print(\"|Lambda - sample mean| with {} samples is {} and with {} samples is {}. \".format(size_1, answer_1, size_2, answer_2))"
   ]
  },
  {
   "cell_type": "markdown",
   "id": "d66e61ec-d24f-4799-b356-500ba66ac2ae",
   "metadata": {},
   "source": [
    "### Shuffling a deck of cards\n",
    "- Often times we are interested in randomizing the order of a set of items. Consider a game of cards where you first shuffle the deck of cards or a game of scrabble where the letters are first mixed in a bag. "
   ]
  },
  {
   "cell_type": "code",
   "execution_count": 42,
   "id": "ba05cac3-4678-4de7-add0-d88f10270214",
   "metadata": {},
   "outputs": [],
   "source": [
    "deck_of_cards = [('Heart', 0),('Heart', 1),('Heart', 2),('Heart', 3),('Heart', 4),('Heart', 5),\n",
    "           ('Heart', 6),('Heart', 7),('Heart', 8),('Heart', 9),('Heart', 10), ('Heart', 11),('Heart', 12),('Club', 0),\n",
    "           ('Club', 1),('Club', 2),('Club', 3),('Club', 4),('Club', 5),('Club', 6),('Club', 7),('Club', 8),\n",
    "           ('Club', 9), ('Club', 10),('Club', 11),('Club', 12),('Spade', 0),('Spade', 1),('Spade', 2),('Spade', 3),('Spade', 4),\n",
    "           ('Spade', 5),('Spade', 6),('Spade', 7),('Spade', 8),('Spade', 9),('Spade', 10),('Spade', 11),('Spade', 12),('Diamond', 0),\n",
    "           ('Diamond', 1),('Diamond', 2),('Diamond', 3),('Diamond', 4),('Diamond', 5),('Diamond', 6),('Diamond', 7),('Diamond', 8),\n",
    "           ('Diamond', 9),('Diamond', 10),('Diamond', 11),('Diamond', 12)]"
   ]
  },
  {
   "cell_type": "code",
   "execution_count": 43,
   "id": "6913cd51-69ad-41ac-9131-2e5ef4cf3970",
   "metadata": {},
   "outputs": [
    {
     "name": "stdout",
     "output_type": "stream",
     "text": [
      "[('Spade', 11), ('Heart', 10), ('Diamond', 1)]\n"
     ]
    }
   ],
   "source": [
    "# Shuffle the deck\n",
    "np.random.shuffle(deck_of_cards) \n",
    "\n",
    "# Print out the top three cards\n",
    "card_choices_after_shuffle = deck_of_cards[0:3]\n",
    "print(card_choices_after_shuffle)"
   ]
  },
  {
   "cell_type": "markdown",
   "id": "cfffbd52-607a-41af-834c-cdc1f4643c60",
   "metadata": {},
   "source": [
    "### Throwing a fair die\n",
    "- Once you grasp the basics of designing a simulation, you can apply it to any system or process. Next, we will learn how each step is implemented using some basic examples.\n",
    "\n",
    "- As we have learned, simulation involves repeated random sampling. The first step then is to get one random sample. Once we have that, all we do is repeat the process multiple times. This exercise will focus on understanding how we get one random sample. We will study this in the context of throwing a fair six-sided die."
   ]
  },
  {
   "cell_type": "code",
   "execution_count": 44,
   "id": "ad00322a-f821-4250-a7ff-b4f9fe49a128",
   "metadata": {},
   "outputs": [
    {
     "name": "stdout",
     "output_type": "stream",
     "text": [
      "Outcome of the throw: 1\n"
     ]
    }
   ],
   "source": [
    "# Define die outcomes and probabilities\n",
    "die, probabilities, throws = [1,2,3,4,5,6], [1/6, 1/6, 1/6, 1/6, 1/6, 1/6], 1\n",
    "\n",
    "# Use np.random.choice to throw the die once and record the outcome\n",
    "outcome = np.random.choice(die, size=throws, p=probabilities)\n",
    "print(\"Outcome of the throw: {}\".format(outcome[0]))"
   ]
  },
  {
   "cell_type": "markdown",
   "id": "e9bf3598-236e-45fa-b537-8a072207c67f",
   "metadata": {},
   "source": [
    "### Throwing two dice"
   ]
  },
  {
   "cell_type": "code",
   "execution_count": 45,
   "id": "88f5519c-ccaf-4e97-ad67-a50b23d82675",
   "metadata": {},
   "outputs": [
    {
     "name": "stdout",
     "output_type": "stream",
     "text": [
      "The dice show 4 and 3. You lose!\n"
     ]
    }
   ],
   "source": [
    "# Initialize number of dice, simulate & record outcome\n",
    "die, probabilities, num_dice = [1,2,3,4,5,6], [1/6, 1/6, 1/6, 1/6, 1/6, 1/6], 2\n",
    "outcomes = np.random.choice(die, size=num_dice, p=probabilities) \n",
    "\n",
    "# Win if the two dice show the same number\n",
    "if outcomes[1] == outcomes[0]: \n",
    "    answer = 'win' \n",
    "else:\n",
    "    answer = 'lose'\n",
    "\n",
    "print(\"The dice show {} and {}. You {}!\".format(outcomes[0], outcomes[1], answer))"
   ]
  },
  {
   "cell_type": "markdown",
   "id": "c0079e53-d8cf-4bf7-a40e-1f3406812765",
   "metadata": {},
   "source": [
    "### Simulating the dice game\n",
    "Now let's consider the next step - repeated random sampling.\n",
    "\n",
    "Simulating an outcome once doesn't tell us much about how often we can expect to see that outcome. In the case of the dice game from the previous exercise, it's great that we won once. But suppose we want to see how many times we can expect to win if we played this game multiple times, we need to repeat the random sampling process many times. \n",
    "Repeating the process of random sampling is helpful to understand and visualize inherent uncertainty and deciding next steps."
   ]
  },
  {
   "cell_type": "code",
   "execution_count": 49,
   "id": "ccd2d33b-c48f-4fea-b2c5-8c67a907d047",
   "metadata": {},
   "outputs": [
    {
     "name": "stdout",
     "output_type": "stream",
     "text": [
      "In 100 games, you win 17 times\n"
     ]
    }
   ],
   "source": [
    "# Initialize model parameters & simulate dice throw\n",
    "die, probabilities, num_dice = [1,2,3,4,5,6], [1/6, 1/6, 1/6, 1/6, 1/6, 1/6], 2\n",
    "sims, wins = 100, 0\n",
    "\n",
    "for i in range(sims):\n",
    "    outcomes = np.random.choice(die, size=num_dice, p=probabilities) \n",
    "    # Increment `wins` by 1 if the dice show same number\n",
    "    if outcomes[0] == outcomes[1]:\n",
    "        wins = wins + 1\n",
    "\n",
    "print(\"In {} games, you win {} times\".format(sims, wins))"
   ]
  },
  {
   "cell_type": "code",
   "execution_count": null,
   "id": "11cb98fe-5853-46ae-a2f7-21ebc5faaa98",
   "metadata": {},
   "outputs": [],
   "source": []
  },
  {
   "cell_type": "code",
   "execution_count": null,
   "id": "c3c4ec58-e0ef-450f-87c5-0e777168bbb5",
   "metadata": {},
   "outputs": [],
   "source": []
  },
  {
   "cell_type": "code",
   "execution_count": null,
   "id": "7677a2b5-0211-4a48-8008-687a6238b3a7",
   "metadata": {},
   "outputs": [],
   "source": []
  },
  {
   "cell_type": "code",
   "execution_count": null,
   "id": "e115a79a-9b32-4634-b3b1-a538c0e82da6",
   "metadata": {},
   "outputs": [],
   "source": []
  },
  {
   "cell_type": "code",
   "execution_count": null,
   "id": "11aee1b0-1a51-45bf-9ae3-61e990855c02",
   "metadata": {},
   "outputs": [],
   "source": []
  },
  {
   "cell_type": "code",
   "execution_count": null,
   "id": "3d0f9696-0b01-4546-b82f-a33478a6924b",
   "metadata": {},
   "outputs": [],
   "source": []
  }
 ],
 "metadata": {
  "kernelspec": {
   "display_name": "Python 3 (ipykernel)",
   "language": "python",
   "name": "python3"
  },
  "language_info": {
   "codemirror_mode": {
    "name": "ipython",
    "version": 3
   },
   "file_extension": ".py",
   "mimetype": "text/x-python",
   "name": "python",
   "nbconvert_exporter": "python",
   "pygments_lexer": "ipython3",
   "version": "3.10.13"
  }
 },
 "nbformat": 4,
 "nbformat_minor": 5
}
