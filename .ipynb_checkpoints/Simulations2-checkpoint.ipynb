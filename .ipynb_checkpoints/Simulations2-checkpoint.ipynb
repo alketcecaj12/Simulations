{
 "cells": [
  {
   "cell_type": "markdown",
   "id": "782cdcde-3a58-4a40-8f9e-3acf33f68b49",
   "metadata": {},
   "source": [
    "### Sample Space\n",
    "- Let's define some basic con0cepts in probability. A sample space is a set of all possible outcomes. One example you've already encountered is the six-sided die where the sample space is basically the set of all possible outcomes from 1 to 6.\n",
    "\n",
    "### Probability\n",
    "- Given a sample space, probability is a number that helps us understand the likelihood of occurrence of an event within that sample space. It is a number between 0 and 1 - 0 telling us that the event will certainly not occur and 1 telling us that the event will most definitely occur. The probability of the sample space, or the probability of all events taken together is 1.\n",
    "\n",
    "\n",
    "- Take the example of a coin, you might not know the probability of heads if it is a biased coin, but you can say with certainty that the outcome will be either heads or tails. Thus, we can confidently say that the probability of heads plus the probability of tails equals 1.\n",
    "\n",
    "### Mutually Exclusive Events\n",
    "\n",
    "- Two events, A & B, are mutually exclusive if they cannot occur at the same time. This means that the probability of them occurring jointly is zero. Similarly, the probability of seeing either A or B is simply sum of the probability of A and the probability of B. For a six-sided die, the probability of rolling both a 6 and 3 on the same roll is zero. However, the probability of rolling either six or three is the probability of rolling 6 plus the probability of rolling 3 giving us a total probability of 1/3.\n",
    "\n",
    "### Probability\n",
    "\n",
    "- In general, the probability of two events A & B is the probability of A plus the probability of B minus the probability of A & B occurring together.\n",
    "\n",
    "### Using Simulation for Probability Estimation\n",
    "\n",
    "- Simulations are very helpful in arriving at estimates of probability. Estimating probability typically involves a simple five step process. 1) Construct the sample space for events which has all possible outcomes 2) Determine how to simulate one random outcome. 3) Determine rule for success - this could involve a combination of events. 4) Sample repeatedly and count successes. 5) Calculate frequency of success as an estimate of probability. That's it, you're done! In the next few exercises, you'll see an implementation of these steps."
   ]
  },
  {
   "cell_type": "markdown",
   "id": "6632ade4-ec20-439b-8f44-457bebf47af5",
   "metadata": {},
   "source": [
    "### Two of a kind\n",
    "\n",
    "- Now let's use simulation to estimate probabilities. Suppose you've been invited to a game of poker at your friend's home. In this variation of the game, you are dealt five cards and the player with the better hand wins. You will use a simulation to estimate the probabilities of getting certain hands. Let's work on estimating the probability of getting at least two of a kind. Two of a kind is when you get two cards of different suites but having the same numeric value (e.g., 2 of hearts, 2 of spades, and 3 other cards).\n",
    "\n",
    "- By the end of this exercise, you will know how to use simulation to calculate probabilities for card games."
   ]
  },
  {
   "cell_type": "code",
   "execution_count": 7,
   "id": "4e16a72d-aa4f-42b9-a0d4-dabdc356a308",
   "metadata": {},
   "outputs": [],
   "source": [
    "deck_of_cards = [('Diamond', 9), ('Spade', 9), ('Spade', 4), ('Club', 11), ('Club', 5), ('Heart', 11), ('Club', 8), ('Club', 0), \n",
    "                 ('Diamond', 4), ('Heart', 0), ('Heart', 5), ('Heart', 10), ('Spade', 10), ('Heart', 8), ('Heart', 12), ('Spade', 5),\n",
    "                 ('Spade', 11), ('Heart', 1), ('Heart', 6), ('Spade', 3), ('Diamond', 1), ('Spade', 0), ('Diamond', 5), ('Club', 2), \n",
    "                 ('Spade', 1), ('Diamond', 10), ('Heart', 7), ('Club', 7), ('Diamond', 11), ('Heart', 3), ('Club', 10), ('Diamond', 7), \n",
    "                 ('Heart', 4), ('Club', 3), ('Diamond', 8), ('Club', 1), ('Diamond', 12), ('Club', 12), ('Diamond', 0), ('Diamond', 2), \n",
    "                 ('Heart', 9), ('Spade', 6), ('Spade', 7), ('Club', 9), ('Diamond', 3), ('Club', 6), ('Club', 4), ('Spade', 12), \n",
    "                 ('Spade', 8), ('Spade', 2), ('Heart', 2), ('Diamond', 6)]\n"
   ]
  },
  {
   "cell_type": "code",
   "execution_count": 8,
   "id": "ce2a46f5-0c3b-4f15-a608-87af9b79740d",
   "metadata": {},
   "outputs": [
    {
     "name": "stdout",
     "output_type": "stream",
     "text": [
      "Probability of seeing at least two of a kind = 0.4928 \n"
     ]
    }
   ],
   "source": [
    "import numpy as np\n",
    "# Shuffle deck & count card occurrences in the hand\n",
    "n_sims, two_kind = 10000, 0\n",
    "for i in range(n_sims):\n",
    "    np.random.shuffle(deck_of_cards)\n",
    "    hand, cards_in_hand = deck_of_cards[0:5], {}\n",
    "    for [suite, numeric_value] in hand:\n",
    "        # Count occurrences of each numeric value\n",
    "        cards_in_hand[numeric_value] = cards_in_hand.get(numeric_value, 0) + 1\n",
    "    \n",
    "    # Condition for getting at least 2 of a kind\n",
    "    if max(cards_in_hand.values()) >=2: \n",
    "        two_kind += 1\n",
    "\n",
    "print(\"Probability of seeing at least two of a kind = {} \".format(two_kind/n_sims))"
   ]
  },
  {
   "cell_type": "markdown",
   "id": "6ee034ca-7e5d-4e95-b415-ca6fa2ec0f1f",
   "metadata": {},
   "source": [
    "### Game of thirteen\n",
    "A famous French mathematician Pierre Raymond De Montmart, who was known for his work in combinatorics, proposed a simple game called as Game of Thirteen. You have a deck of 13 cards, each numbered from 1 through 13. Shuffle this deck and draw cards one by one. A coincidence is when the number on the card matches the order in which the card is drawn. For instance, if the 5th card you draw happens to be a 5, it's a coincidence. You win the game if you get through all the cards without any coincidences. Let's calculate the probability of winning at this game using simulation."
   ]
  },
  {
   "cell_type": "code",
   "execution_count": 9,
   "id": "c9477ead-ab72-426f-a953-9e3458752612",
   "metadata": {},
   "outputs": [
    {
     "name": "stdout",
     "output_type": "stream",
     "text": [
      "Probability of winning = 0.3771\n"
     ]
    }
   ],
   "source": [
    "# Pre-set constant variables\n",
    "deck, sims, coincidences = np.arange(1, 14), 10000, 0\n",
    "\n",
    "for _ in range(sims):\n",
    "    # Draw all the cards without replacement to simulate one game\n",
    "    draw = np.random.choice(deck, size=13, replace=False) \n",
    "    # Check if there are any coincidences\n",
    "    coincidence = (draw == list(np.arange(1, 14))).any()\n",
    "    if coincidence == True:\n",
    "        coincidences += 1\n",
    "\n",
    "# Calculate probability of winning\n",
    "prob_of_winning = 1-coincidences/sims\n",
    "print(\"Probability of winning = {}\".format(prob_of_winning))"
   ]
  },
  {
   "cell_type": "code",
   "execution_count": null,
   "id": "cacb957d-7b7b-45cc-b391-b7c7106f970e",
   "metadata": {},
   "outputs": [],
   "source": []
  },
  {
   "cell_type": "code",
   "execution_count": null,
   "id": "960e4b64-d6a9-47ca-9ecb-16b1cb0ec78b",
   "metadata": {},
   "outputs": [],
   "source": []
  },
  {
   "cell_type": "code",
   "execution_count": null,
   "id": "fa445f45-be3e-44c7-b2ba-a05fe77fc72f",
   "metadata": {},
   "outputs": [],
   "source": []
  },
  {
   "cell_type": "code",
   "execution_count": null,
   "id": "d52c3bdc-ba08-4b4b-8d9d-826d29a0dd17",
   "metadata": {},
   "outputs": [],
   "source": []
  },
  {
   "cell_type": "code",
   "execution_count": null,
   "id": "21590df1-b3a5-4abb-9d97-d3c170dadeb3",
   "metadata": {},
   "outputs": [],
   "source": []
  },
  {
   "cell_type": "code",
   "execution_count": null,
   "id": "59f9a55d-f315-4f8e-b174-5f1e578d2853",
   "metadata": {},
   "outputs": [],
   "source": []
  }
 ],
 "metadata": {
  "kernelspec": {
   "display_name": "Python 3 (ipykernel)",
   "language": "python",
   "name": "python3"
  },
  "language_info": {
   "codemirror_mode": {
    "name": "ipython",
    "version": 3
   },
   "file_extension": ".py",
   "mimetype": "text/x-python",
   "name": "python",
   "nbconvert_exporter": "python",
   "pygments_lexer": "ipython3",
   "version": "3.10.13"
  }
 },
 "nbformat": 4,
 "nbformat_minor": 5
}
