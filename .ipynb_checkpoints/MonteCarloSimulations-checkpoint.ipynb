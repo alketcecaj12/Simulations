{
 "cells": [
  {
   "cell_type": "markdown",
   "id": "9b7e7bd2-2892-4171-8b4f-8542ac972de6",
   "metadata": {},
   "source": [
    "# The Monte Carlo method is a versatile and powerful tool in data science, with a wide range of applications. Here are some of the key use\n",
    "\n",
    "# Simulation and Risk Analysis:\n",
    "\n",
    "- Financial Modeling: Estimating the risk and uncertainty in financial markets, portfolio optimization, and pricing complex financial instruments.\n",
    "- Operations Research: Simulating various business processes to predict outcomes and optimize operations.\n",
    "- Optimization Problems:\n",
    "    - Function Optimization: Finding the global maximum or minimum of complex functions where traditional methods might fail.\n",
    "- Parameter Tuning: Optimizing hyperparameters in machine learning models.\n",
    "- Statistical Sampling and Estimation:\n",
    "\n",
    "- Integral Approximation: Estimating the value of definite integrals, especially in higher dimensions.\n",
    "- Probability Estimation: Calculating probabilities of complex events where analytical solutions are not feasible.\n",
    "- Bayesian Inference:\n",
    "\n",
    "    - Posterior Distribution: Sampling from posterior distributions to make Bayesian inferences, using techniques like Markov Chain Monte Carlo (MCMC).\n",
    "    - Model Comparison: Comparing different models or hypotheses by estimating their probabilities given the data.\n",
    "Machine Learning and AI:\n",
    "\n",
    "- Reinforcement Learning: Simulating different strategies to evaluate their performance and learn optimal policies.\n",
    "- Robustness Testing: Testing the robustness and stability of machine learning models under different scenarios and data distributions.\n",
    "Physics and Engineering:\n",
    "\n",
    "Particle Physics: Simulating particle interactions to predict outcomes of experiments.\n",
    "Engineering Design: Evaluating the reliability and performance of engineering systems under various conditions.\n",
    "Queueing Theory:\n",
    "\n",
    "Network Simulation: Modeling and analyzing the performance of networks, such as telecommunications and computer networks, under different traffic conditions.\n",
    "Operations Management:\n",
    "\n",
    "Supply Chain Management: Simulating supply chain operations to optimize inventory levels, production schedules, and logistics.\n",
    "Healthcare:\n",
    "\n",
    "Disease Spread: Modeling the spread of infectious diseases to predict future outbreaks and evaluate intervention strategies.\n",
    "Medical Decision Making: Assessing the risks and benefits of different medical treatments and procedures.\n",
    "Environmental Science:\n",
    "\n",
    "Climate Modeling: Simulating climate systems to predict future climate changes and assess the impact of various factors.\n",
    "Game Theory:\n",
    "\n",
    "Strategy Evaluation: Evaluating and comparing different strategies in games and decision-making processes.\n",
    "The Monte Carlo method's ability to handle uncertainty and complexity makes it an indispensable tool across these diverse applications in data science."
   ]
  },
  {
   "cell_type": "markdown",
   "id": "d9572f6d-6eb1-432b-b390-f018da57bd93",
   "metadata": {},
   "source": [
    "# Example 1: Predicting Traffic Flow at an Intersection\n",
    "- Problem:\n",
    "We want to predict the average number of cars passing through an intersection during peak hours. We assume the number of cars per minute follows a certain probability distribution based on historical data.\n",
    "\n",
    "- Steps:\n",
    "Define the Probability Distribution:\n",
    "Let's assume the number of cars arriving per minute follows a normal distribution with a mean (\n",
    "𝜇\n",
    "μ) of 10 cars per minute and a standard deviation (\n",
    "𝜎\n",
    "σ) of 2 cars per minute.\n",
    "\n",
    "Simulate Traffic for a Given Period:\n",
    "We'll simulate the traffic flow for 60 minutes (1 hour) using the Monte Carlo method.\n",
    "\n",
    "Run Multiple Simulations:\n",
    "To get a robust estimate, we'll run the simulation 1,000 times and compute the average traffic flow."
   ]
  },
  {
   "cell_type": "code",
   "execution_count": 1,
   "id": "46461e97-8c7f-41e7-a477-4f7350253791",
   "metadata": {},
   "outputs": [
    {
     "name": "stdout",
     "output_type": "stream",
     "text": [
      "Average number of cars per hour: 600.88\n",
      "Standard deviation: 15.91\n"
     ]
    },
    {
     "data": {
      "image/png": "[encoded data removed]",
      "text/plain": [
       "<Figure size 640x480 with 1 Axes>"
      ]
     },
     "metadata": {},
     "output_type": "display_data"
    }
   ],
   "source": [
    "import numpy as np\n",
    "import matplotlib.pyplot as plt\n",
    "\n",
    "# Parameters\n",
    "mean_cars_per_minute = 10\n",
    "std_dev_cars_per_minute = 2\n",
    "simulation_duration_minutes = 60\n",
    "num_simulations = 1000\n",
    "\n",
    "# Function to simulate traffic flow for a given duration\n",
    "def simulate_traffic_flow(duration, mean, std_dev):\n",
    "    return np.random.normal(mean, std_dev, duration)\n",
    "\n",
    "# Run multiple simulations\n",
    "total_cars_per_simulation = []\n",
    "for _ in range(num_simulations):\n",
    "    cars_per_minute = simulate_traffic_flow(simulation_duration_minutes, mean_cars_per_minute, std_dev_cars_per_minute)\n",
    "    total_cars_per_simulation.append(np.sum(cars_per_minute))\n",
    "\n",
    "# Compute the average number of cars per hour\n",
    "average_cars_per_hour = np.mean(total_cars_per_simulation)\n",
    "std_dev_cars_per_hour = np.std(total_cars_per_simulation)\n",
    "\n",
    "# Print results\n",
    "print(f\"Average number of cars per hour: {average_cars_per_hour:.2f}\")\n",
    "print(f\"Standard deviation: {std_dev_cars_per_hour:.2f}\")\n",
    "\n",
    "# Plot histogram of the results\n",
    "plt.hist(total_cars_per_simulation, bins=30, edgecolor='black')\n",
    "plt.title('Monte Carlo Simulation of Traffic Flow')\n",
    "plt.xlabel('Total Cars per Hour')\n",
    "plt.ylabel('Frequency')\n",
    "plt.show()\n"
   ]
  },
  {
   "cell_type": "code",
   "execution_count": null,
   "id": "8142cbe4-a313-43da-92fd-f594f62d2eca",
   "metadata": {},
   "outputs": [],
   "source": []
  },
  {
   "cell_type": "code",
   "execution_count": null,
   "id": "a8e08948-5afd-4de3-8b93-f630e964f561",
   "metadata": {},
   "outputs": [],
   "source": []
  },
  {
   "cell_type": "code",
   "execution_count": null,
   "id": "75b95f45-3074-43ee-bfe5-1071910ec004",
   "metadata": {},
   "outputs": [],
   "source": []
  },
  {
   "cell_type": "code",
   "execution_count": null,
   "id": "4806fecd-c961-4d83-8d53-d342f41aef4a",
   "metadata": {},
   "outputs": [],
   "source": []
  },
  {
   "cell_type": "code",
   "execution_count": null,
   "id": "ec28afe1-7844-46c2-ab2d-462bb10bbf17",
   "metadata": {},
   "outputs": [],
   "source": []
  }
 ],
 "metadata": {
  "kernelspec": {
   "display_name": "Python 3 (ipykernel)",
   "language": "python",
   "name": "python3"
  },
  "language_info": {
   "codemirror_mode": {
    "name": "ipython",
    "version": 3
   },
   "file_extension": ".py",
   "mimetype": "text/x-python",
   "name": "python",
   "nbconvert_exporter": "python",
   "pygments_lexer": "ipython3",
   "version": "3.10.13"
  }
 },
 "nbformat": 4,
 "nbformat_minor": 5
}
