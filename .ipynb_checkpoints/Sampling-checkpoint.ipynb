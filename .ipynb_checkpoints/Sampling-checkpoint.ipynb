{
 "cells": [
  {
   "cell_type": "markdown",
   "id": "0ca42ea8-aa28-4f11-8db6-b22e987edc50",
   "metadata": {},
   "source": [
    "### Sampling with replacement\n",
    "- Bootstrapping is great for calculating confidence intervals for means; you'll now practice doing just that!"
   ]
  },
  {
   "cell_type": "code",
   "execution_count": 11,
   "id": "e3a93f90-ef48-424f-bbac-1be2f252a991",
   "metadata": {
    "scrolled": true
   },
   "outputs": [
    {
     "name": "stdout",
     "output_type": "stream",
     "text": [
      "98.76435555555555 97.82222222222222 99.73361111111112\n"
     ]
    }
   ],
   "source": [
    "import random\n",
    "import numpy as np\n",
    "import matplotlib.pyplot as plt\n",
    "nba_weights = [96.7, 101.1, 97.9, 98.1, 98.1, 100.3, 101.0, 98.0, 97.4]\n",
    "simu_weights = []\n",
    "\n",
    "\n",
    "# Sample nine values from nba_weights with replacement 1000 times\n",
    "for i in range(1000):\n",
    "    bootstrap_sample = random.choices(nba_weights, k=9)\n",
    "  \n",
    "    simu_weights.append(np.mean(bootstrap_sample))\n",
    "\n",
    "# Calculate the mean and 95% confidence interval of the mean for your results\n",
    "mean_weight = np.mean(simu_weights)\n",
    "upper = np.quantile(simu_weights, 0.975)\n",
    "lower = np.quantile(simu_weights, 0.025)\n",
    "print(mean_weight, lower, upper)"
   ]
  },
  {
   "cell_type": "code",
   "execution_count": 12,
   "id": "484d2467-3322-4b80-9b5c-6bd00cfce386",
   "metadata": {},
   "outputs": [
    {
     "name": "stderr",
     "output_type": "stream",
     "text": [
      "/Users/alket/miniconda3/envs/myenv/lib/python3.10/site-packages/seaborn/_oldcore.py:1119: FutureWarning: use_inf_as_na option is deprecated and will be removed in a future version. Convert inf values to NaN before operating instead.\n",
      "  with pd.option_context('mode.use_inf_as_na', True):\n"
     ]
    },
    {
     "data": {
      "image/png": "[encoded data removed]",
      "text/plain": [
       "<Figure size 500x500 with 1 Axes>"
      ]
     },
     "metadata": {},
     "output_type": "display_data"
    }
   ],
   "source": [
    "import seaborn as sns\n",
    "# Plot the distribution of the simulated weights\n",
    "sns.displot(simu_weights)\n",
    "\n",
    "# Plot vertical lines for the 95% confidence intervals and mean\n",
    "plt.axvline(lower, color=\"red\")\n",
    "plt.axvline(upper, color=\"red\")\n",
    "plt.axvline(mean_weight, color=\"green\")\n",
    "plt.show()"
   ]
  },
  {
   "cell_type": "code",
   "execution_count": null,
   "id": "309af147-4982-41a0-8f93-5911f76fae34",
   "metadata": {},
   "outputs": [],
   "source": []
  },
  {
   "cell_type": "code",
   "execution_count": null,
   "id": "4ed241bc-647e-4ce8-b148-56492ef66e92",
   "metadata": {},
   "outputs": [],
   "source": []
  },
  {
   "cell_type": "code",
   "execution_count": null,
   "id": "f1bcbc7a-3cb4-49b7-bf80-18d7a92f1880",
   "metadata": {},
   "outputs": [],
   "source": []
  },
  {
   "cell_type": "code",
   "execution_count": null,
   "id": "46879473-9bb4-4939-be05-11bd2f35bce6",
   "metadata": {},
   "outputs": [],
   "source": []
  },
  {
   "cell_type": "code",
   "execution_count": null,
   "id": "75f7c7d2-4f47-4c4f-b9cd-eedea2f6704f",
   "metadata": {},
   "outputs": [],
   "source": []
  },
  {
   "cell_type": "code",
   "execution_count": null,
   "id": "e31e847a-21e8-4894-ba2b-853c3e50d3d6",
   "metadata": {},
   "outputs": [],
   "source": []
  },
  {
   "cell_type": "code",
   "execution_count": null,
   "id": "671bc9f4-808a-41cb-9dae-63613704a089",
   "metadata": {},
   "outputs": [],
   "source": []
  }
 ],
 "metadata": {
  "kernelspec": {
   "display_name": "Python 3 (ipykernel)",
   "language": "python",
   "name": "python3"
  },
  "language_info": {
   "codemirror_mode": {
    "name": "ipython",
    "version": 3
   },
   "file_extension": ".py",
   "mimetype": "text/x-python",
   "name": "python",
   "nbconvert_exporter": "python",
   "pygments_lexer": "ipython3",
   "version": "3.10.13"
  }
 },
 "nbformat": 4,
 "nbformat_minor": 5
}
