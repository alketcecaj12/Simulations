{
 "cells": [
  {
   "cell_type": "code",
   "execution_count": 1,
   "id": "9b0f26d2-5486-40e7-9cf6-fe9e8e93939c",
   "metadata": {},
   "outputs": [],
   "source": [
    "import pandas as pd\n",
    "import numpy as np"
   ]
  },
  {
   "cell_type": "markdown",
   "id": "267990f1-a8bd-4e76-ba34-0b2e6302a26f",
   "metadata": {},
   "source": [
    "### Probability example\n",
    "In this exercise, we will review the difference between sampling with and without replacement. We will calculate the probability of an event using simulation, but vary our sampling method to see how it impacts probability.\n",
    "\n",
    "Consider a bowl filled with colored candies - three blue, two green, and five yellow. Draw three candies, one at a time, with replacement and without replacement. You want to calculate the probability that all three candies are yellow."
   ]
  },
  {
   "cell_type": "code",
   "execution_count": 2,
   "id": "704a4a09-b28f-4d14-8f0b-419aec563fe6",
   "metadata": {},
   "outputs": [
    {
     "name": "stdout",
     "output_type": "stream",
     "text": [
      "Probability with replacement = 0.1233, without replacement = 0.0796\n"
     ]
    }
   ],
   "source": [
    "# Set up the bowl\n",
    "success_rep, success_no_rep, sims = 0, 0, 10000\n",
    "bowl = list('b'*3 + 'g'*2 + 'y'*5)\n",
    "\n",
    "for i in range(sims):\n",
    "    # Sample with and without replacement & increment success counters\n",
    "    sample_rep = np.random.choice(bowl, size=3, replace=True)\n",
    "    sample_no_rep = np.random.choice(bowl, size=3, replace=False)\n",
    "    if ('b' not in sample_rep) & ('g' not in sample_rep) : \n",
    "        success_rep += 1\n",
    "    if ('b' not in sample_no_rep) & ('g' not in sample_no_rep) : \n",
    "        success_no_rep += 1\n",
    "\n",
    "# Calculate probabilities\n",
    "prob_with_replacement = success_rep/sims\n",
    "prob_without_replacement = success_no_rep/sims\n",
    "print(\"Probability with replacement = {}, without replacement = {}\".format(prob_with_replacement, prob_without_replacement))"
   ]
  },
  {
   "cell_type": "markdown",
   "id": "b14933bf-9297-4cba-b7d0-6aec088adabb",
   "metadata": {},
   "source": [
    "1. Bootstrapping\n",
    "First and probably most popular type of resampling method called bootstrapping. \n",
    "The name bootstrapping basically refers to the fact that we use the existing dataset to simulate multiple different datasets. Let's try to understand bootstrapping with an example.\n",
    "\n",
    "2. Easter eggs\n",
    "\n",
    "Suppose you've received a large shipment of Easter eggs and are interested in determining the average weight of each egg for quality control. You have access to a small sample of 10 eggs. You weigh these eggs and find 4 that weigh 20g, 3 that weigh 70g and 3 others weighing 50g, 90g and 80g respectively.\n",
    "\n",
    "From this sample, you can easily calculate the mean of 51, standard deviation of 27, standard error of 8.53 and then multiply this standard error by 1.96 to get the 95% confidence interval between 34.27 and 67.73. This gives us what we want, doesn't it? We went from a sample distribution to a population distribution. However, there are hidden assumptions in this calculation. First of all, we assumed that the distribution of weights is normal. In addition, we assumed that the confidence interval was symmetric. Both of these might not be reasonable assumptions. So what do we do?\n",
    "\n",
    "4. Bootstrapping Easter eggs\n",
    "\n",
    "One approach is to take a bootstrapped sample by sampling with replacement from the original sample. In our case, this means that each of the 10 eggs have an equal probability of being picked. And since it with replacement, each egg has an equal probability of being picked subsequently as well. Here are some bootstrapped samples drawn from the original sample. Notice how some egg weights appear more often that they do in the original sample. After drawing multiple bootstrap samples, we can calculate the mean weight for each of these samples.\n",
    "\n",
    "5. Bootstrapped distribution\n",
    "\n",
    "Using 5000 iterations, I get a mean weight of 50.8g with a 95% confidence interval between 35 and 67.03. Notice that the CI is not symmetric. Although this result isn't hugely different from the original calculation, it does serve to illustrate the power of the bootstrap. One thing to keep in mind is that the reliability of the bootstrap is dependent on the original sample being a reasonable representation of the population.\n",
    "\n",
    "6. Bootstrap - Good to know\n",
    "\n",
    "As a rule of thumb, be sure to run at least 5-10K iterations with the number of observations at least equal to the number of observations in the original sample. Another thing to keep in mind is that bootstrapping is a random simulation. This means that the answer will be an approximation and will vary slightly every time to run the simulation. One word of caution is that some bootstrapped statistics, especially those concerning dispersion of the data like standard deviation tend to be inherently biased. But there are procedures like balanced bootstrap that help correct this bias. I encourage you to look these up as you get more familiar with bootstrapping."
   ]
  },
  {
   "cell_type": "code",
   "execution_count": null,
   "id": "0d382900-b8fc-47d7-b119-c10043808c03",
   "metadata": {},
   "outputs": [],
   "source": []
  },
  {
   "cell_type": "code",
   "execution_count": null,
   "id": "c9477ead-ab72-426f-a953-9e3458752612",
   "metadata": {},
   "outputs": [],
   "source": []
  },
  {
   "cell_type": "code",
   "execution_count": null,
   "id": "cacb957d-7b7b-45cc-b391-b7c7106f970e",
   "metadata": {},
   "outputs": [],
   "source": []
  },
  {
   "cell_type": "code",
   "execution_count": null,
   "id": "9be5ed2a-8753-41ea-ae89-fdf9a352edeb",
   "metadata": {},
   "outputs": [],
   "source": []
  },
  {
   "cell_type": "code",
   "execution_count": null,
   "id": "ff7618d2-8723-4c41-bc8d-29863717abe9",
   "metadata": {},
   "outputs": [],
   "source": []
  },
  {
   "cell_type": "code",
   "execution_count": null,
   "id": "a49c66d2-a89f-49d3-a1ef-0223421e6d13",
   "metadata": {},
   "outputs": [],
   "source": []
  },
  {
   "cell_type": "code",
   "execution_count": null,
   "id": "8f219ee9-5f4c-4205-8f16-cbeaafaa9472",
   "metadata": {},
   "outputs": [],
   "source": []
  },
  {
   "cell_type": "code",
   "execution_count": null,
   "id": "614653ff-027c-4b48-b4da-362c730fe616",
   "metadata": {},
   "outputs": [],
   "source": []
  },
  {
   "cell_type": "code",
   "execution_count": null,
   "id": "e5f4f302-817c-4831-b41c-86e2d9022741",
   "metadata": {},
   "outputs": [],
   "source": []
  },
  {
   "cell_type": "code",
   "execution_count": null,
   "id": "86523ef4-62b8-4328-9b83-43fca7f60ddd",
   "metadata": {},
   "outputs": [],
   "source": []
  }
 ],
 "metadata": {
  "kernelspec": {
   "display_name": "Python 3 (ipykernel)",
   "language": "python",
   "name": "python3"
  },
  "language_info": {
   "codemirror_mode": {
    "name": "ipython",
    "version": 3
   },
   "file_extension": ".py",
   "mimetype": "text/x-python",
   "name": "python",
   "nbconvert_exporter": "python",
   "pygments_lexer": "ipython3",
   "version": "3.10.13"
  }
 },
 "nbformat": 4,
 "nbformat_minor": 5
}
