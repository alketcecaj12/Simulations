{
 "cells": [
  {
   "cell_type": "markdown",
   "id": "9b7e7bd2-2892-4171-8b4f-8542ac972de6",
   "metadata": {},
   "source": [
    "# The Monte Carlo method is a versatile and powerful tool in data science, with a wide range of applications. Here are some of the key use\n",
    "\n",
    "# Simulation and Risk Analysis:\n",
    "\n",
    "- Financial Modeling: Estimating the risk and uncertainty in financial markets, portfolio optimization, and pricing complex financial instruments.\n",
    "- Operations Research: Simulating various business processes to predict outcomes and optimize operations.\n",
    "- Optimization Problems:\n",
    "    - Function Optimization: Finding the global maximum or minimum of complex functions where traditional methods might fail.\n",
    "- Parameter Tuning: Optimizing hyperparameters in machine learning models.\n",
    "- Statistical Sampling and Estimation:\n",
    "\n",
    "- Integral Approximation: Estimating the value of definite integrals, especially in higher dimensions.\n",
    "- Probability Estimation: Calculating probabilities of complex events where analytical solutions are not feasible.\n",
    "- Bayesian Inference:\n",
    "\n",
    "    - Posterior Distribution: Sampling from posterior distributions to make Bayesian inferences, using techniques like Markov Chain Monte Carlo (MCMC).\n",
    "    - Model Comparison: Comparing different models or hypotheses by estimating their probabilities given the data.\n",
    "Machine Learning and AI:\n",
    "\n",
    "- Reinforcement Learning: Simulating different strategies to evaluate their performance and learn optimal policies.\n",
    "- Robustness Testing: Testing the robustness and stability of machine learning models under different scenarios and data distributions.\n",
    "Physics and Engineering:\n",
    "\n",
    "Particle Physics: Simulating particle interactions to predict outcomes of experiments.\n",
    "Engineering Design: Evaluating the reliability and performance of engineering systems under various conditions.\n",
    "Queueing Theory:\n",
    "\n",
    "Network Simulation: Modeling and analyzing the performance of networks, such as telecommunications and computer networks, under different traffic conditions.\n",
    "Operations Management:\n",
    "\n",
    "Supply Chain Management: Simulating supply chain operations to optimize inventory levels, production schedules, and logistics.\n",
    "Healthcare:\n",
    "\n",
    "Disease Spread: Modeling the spread of infectious diseases to predict future outbreaks and evaluate intervention strategies.\n",
    "Medical Decision Making: Assessing the risks and benefits of different medical treatments and procedures.\n",
    "Environmental Science:\n",
    "\n",
    "Climate Modeling: Simulating climate systems to predict future climate changes and assess the impact of various factors.\n",
    "Game Theory:\n",
    "\n",
    "Strategy Evaluation: Evaluating and comparing different strategies in games and decision-making processes.\n",
    "The Monte Carlo method's ability to handle uncertainty and complexity makes it an indispensable tool across these diverse applications in data science."
   ]
  },
  {
   "cell_type": "markdown",
   "id": "d9572f6d-6eb1-432b-b390-f018da57bd93",
   "metadata": {},
   "source": [
    "# Example 1: Predicting Traffic Flow at an Intersection\n",
    "- Problem:\n",
    "We want to predict the average number of cars passing through an intersection during peak hours. We assume the number of cars per minute follows a certain probability distribution based on historical data.\n",
    "\n",
    "- Steps:\n",
    "Define the Probability Distribution:\n",
    "Let's assume the number of cars arriving per minute follows a normal distribution with a mean (\n",
    "𝜇\n",
    "μ) of 10 cars per minute and a standard deviation (\n",
    "𝜎\n",
    "σ) of 2 cars per minute.\n",
    "\n",
    "Simulate Traffic for a Given Period:\n",
    "We'll simulate the traffic flow for 60 minutes (1 hour) using the Monte Carlo method.\n",
    "\n",
    "Run Multiple Simulations:\n",
    "To get a robust estimate, we'll run the simulation 1,000 times and compute the average traffic flow."
   ]
  },
  {
   "cell_type": "code",
   "execution_count": 2,
   "id": "36e9bc1c-8225-4894-98be-ccb0bd9421a0",
   "metadata": {},
   "outputs": [
    {
     "name": "stdin",
     "output_type": "stream",
     "text": [
      "There are 3 doors, one with a prize. Choose a door 1, 2, 3:\n",
      " 1\n",
      "You chose door 1, but door 3 was opened. Do you want to switch? y/n\n",
      " y\n"
     ]
    },
    {
     "name": "stdout",
     "output_type": "stream",
     "text": [
      "Sorry, no prize\n"
     ]
    }
   ],
   "source": [
    "import random\n",
    "\n",
    "number_doors = 3\n",
    "door_with_prize = random.randint(1,3)\n",
    "\n",
    "chosen_door = int(input(\"There are 3 doors, one with a prize. Choose a door 1, 2, 3:\\n\"))\n",
    "opened_door = random.choice([i for i in range(1, 4) if i != chosen_door and i != door_with_prize])\n",
    "\n",
    "switch = input(\"You chose door {0}, but door {1} was opened. Do you want to switch? y/n\\n\".format(chosen_door, opened_door))\n",
    "\n",
    "if switch == \"y\":\n",
    "    opened_door = random.choice([i for i in range(1, 4) if i != chosen_door and i != door_with_prize])\n",
    "\n",
    "if chosen_door == door_with_prize:\n",
    "    print(\"You win a prize!\")\n",
    "else:\n",
    "    print(\"Sorry, no prize\")"
   ]
  },
  {
   "cell_type": "code",
   "execution_count": 3,
   "id": "45e28be1-c11c-4251-a13b-511abd8b8d5a",
   "metadata": {},
   "outputs": [
    {
     "name": "stdout",
     "output_type": "stream",
     "text": [
      "STAY WINS: 3425, SWITCH WINS: 6575\n",
      "STAY WIN RATE: 0.3425, SWITCH WIN RATE: 0.6575\n"
     ]
    }
   ],
   "source": [
    "from random import randint, choice\n",
    "\n",
    "\n",
    "def random_door():\n",
    "    return randint(1, 3)\n",
    "\n",
    "\n",
    "trial_count = 10000\n",
    "\n",
    "stay_wins = 0\n",
    "switch_wins = 0\n",
    "\n",
    "for i in range(0, trial_count):\n",
    "    prize_door = random_door()\n",
    "    selected_door = random_door()\n",
    "    opened_door = choice([d for d in range(1, 4) if d != selected_door and d != prize_door])\n",
    "    switch_door = choice([d for d in range(1, 4) if d != selected_door and d != opened_door])\n",
    "\n",
    "    if selected_door == prize_door:\n",
    "        stay_wins += 1\n",
    "\n",
    "    if switch_door == prize_door:\n",
    "        switch_wins += 1\n",
    "\n",
    "print(\"STAY WINS: {}, SWITCH WINS: {}\".format(stay_wins, switch_wins))\n",
    "\n",
    "print(\"STAY WIN RATE: {}, SWITCH WIN RATE: {}\".format(float(stay_wins)/float(trial_count), float(switch_wins)/float(trial_count)))"
   ]
  },
  {
   "cell_type": "code",
   "execution_count": 4,
   "id": "46461e97-8c7f-41e7-a477-4f7350253791",
   "metadata": {},
   "outputs": [
    {
     "name": "stdout",
     "output_type": "stream",
     "text": [
      "Average number of cars per hour: 600.31\n",
      "Standard deviation: 15.09\n"
     ]
    },
    {
     "data": {
      "image/png": "[encoded data removed]",
      "text/plain": [
       "<Figure size 640x480 with 1 Axes>"
      ]
     },
     "metadata": {},
     "output_type": "display_data"
    }
   ],
   "source": [
    "import numpy as np\n",
    "import matplotlib.pyplot as plt\n",
    "\n",
    "# Parameters\n",
    "mean_cars_per_minute = 10\n",
    "std_dev_cars_per_minute = 2\n",
    "simulation_duration_minutes = 60\n",
    "num_simulations = 1000\n",
    "\n",
    "# Function to simulate traffic flow for a given duration\n",
    "def simulate_traffic_flow(duration, mean, std_dev):\n",
    "    return np.random.normal(mean, std_dev, duration)\n",
    "\n",
    "# Run multiple simulations\n",
    "total_cars_per_simulation = []\n",
    "for _ in range(num_simulations):\n",
    "    cars_per_minute = simulate_traffic_flow(simulation_duration_minutes, mean_cars_per_minute, std_dev_cars_per_minute)\n",
    "    total_cars_per_simulation.append(np.sum(cars_per_minute))\n",
    "\n",
    "# Compute the average number of cars per hour\n",
    "average_cars_per_hour = np.mean(total_cars_per_simulation)\n",
    "std_dev_cars_per_hour = np.std(total_cars_per_simulation)\n",
    "\n",
    "# Print results\n",
    "print(f\"Average number of cars per hour: {average_cars_per_hour:.2f}\")\n",
    "print(f\"Standard deviation: {std_dev_cars_per_hour:.2f}\")\n",
    "\n",
    "# Plot histogram of the results\n",
    "plt.hist(total_cars_per_simulation, bins=30, edgecolor='black')\n",
    "plt.title('Monte Carlo Simulation of Traffic Flow')\n",
    "plt.xlabel('Total Cars per Hour')\n",
    "plt.ylabel('Frequency')\n",
    "plt.show()\n"
   ]
  },
  {
   "cell_type": "markdown",
   "id": "89b3d802-651e-49d3-a3fb-3ccd2459de6f",
   "metadata": {},
   "source": [
    "# Explanation:\n",
    "- Parameters: We set the mean and standard deviation for the number of cars per minute.\n",
    "Simulation Function: We define a function to simulate the traffic flow for a given duration using the normal distribution.\n",
    "- Multiple Simulations: We run the simulation 1,000 times, each time summing the total number of cars for the 60-minute period.\n",
    "- Results: We compute and print the average number of cars per hour and the standard deviation. We also plot a histogram to visualize the distribution of total cars per hour across all simulations.\n",
    "This simple example demonstrates how the Monte Carlo method can be used to predict traffic flow by simulating random samples from a given probability distribution and aggregating the results to obtain an estimate."
   ]
  },
  {
   "cell_type": "markdown",
   "id": "3c36f711-c8ad-472f-bb6f-de7d6297ca59",
   "metadata": {},
   "source": [
    "## What coul be another scenario for the monte carlo method ? \n",
    "\n",
    "Using the Monte Carlo method for risk prediction in a financial institution involves simulating various financial scenarios to estimate potential losses and assess the risk. A common application is in Value at Risk (VaR) estimation, which quantifies the potential loss in value of a portfolio over a defined period for a given confidence interval."
   ]
  },
  {
   "cell_type": "markdown",
   "id": "2aa7e71f-afe9-4b38-a7f2-fce2ee739e72",
   "metadata": {},
   "source": [
    "\n",
    "\n",
    "# Example 2: Estimating Value at Risk (VaR)\n",
    "Problem:\n",
    "We want to estimate the Value at Risk (VaR) of a portfolio over a one-day period at a 95% confidence level. The portfolio consists of several financial instruments whose returns follow a known distribution based on historical data.\n",
    "\n",
    "## Steps:\n",
    "- Define the Portfolio and Historical Returns:\n",
    "Assume we have a portfolio with historical returns for each asset.\n",
    "\n",
    "- Generate Random Scenarios:\n",
    "Simulate the returns for each asset in the portfolio using the historical distribution of returns.\n",
    "\n",
    "- Calculate Portfolio Value:\n",
    "Compute the portfolio value for each scenario.\n",
    "\n",
    "- Determine VaR:\n",
    "Calculate the potential losses and determine the VaR at the desired confidence level."
   ]
  },
  {
   "cell_type": "code",
   "execution_count": 5,
   "id": "75b95f45-3074-43ee-bfe5-1071910ec004",
   "metadata": {},
   "outputs": [
    {
     "name": "stdout",
     "output_type": "stream",
     "text": [
      "Value at Risk (VaR) at 95.0% confidence level: -0.24\n"
     ]
    },
    {
     "data": {
      "image/png": "[encoded data removed]",
      "text/plain": [
       "<Figure size 640x480 with 1 Axes>"
      ]
     },
     "metadata": {},
     "output_type": "display_data"
    }
   ],
   "source": [
    "import numpy as np\n",
    "import pandas as pd\n",
    "import matplotlib.pyplot as plt\n",
    "\n",
    "# Sample historical returns for 3 assets in the portfolio (for simplicity)\n",
    "historical_returns = pd.DataFrame({\n",
    "    'Asset1': np.random.normal(0.001, 0.02, 1000),\n",
    "    'Asset2': np.random.normal(0.001, 0.015, 1000),\n",
    "    'Asset3': np.random.normal(0.001, 0.01, 1000)\n",
    "})\n",
    "\n",
    "# Portfolio weights\n",
    "weights = np.array([0.4, 0.4, 0.2])\n",
    "\n",
    "# Number of simulations\n",
    "num_simulations = 10000\n",
    "\n",
    "# Function to simulate portfolio returns\n",
    "def simulate_portfolio_returns(historical_returns, weights, num_simulations):\n",
    "    num_assets = len(weights)\n",
    "    num_days = historical_returns.shape[0]\n",
    "    simulated_returns = np.zeros(num_simulations)\n",
    "    \n",
    "    for i in range(num_simulations):\n",
    "        # Randomly sample returns for each asset\n",
    "        sampled_returns = historical_returns.sample(n=num_days, replace=True).values\n",
    "        # Compute portfolio return for the sampled period\n",
    "        portfolio_return = np.dot(sampled_returns, weights)\n",
    "        # Sum of returns for the simulation period\n",
    "        simulated_returns[i] = np.sum(portfolio_return)\n",
    "    \n",
    "    return simulated_returns\n",
    "\n",
    "# Run simulations\n",
    "simulated_returns = simulate_portfolio_returns(historical_returns, weights, num_simulations)\n",
    "\n",
    "# Calculate VaR\n",
    "confidence_level = 0.95\n",
    "VaR = np.percentile(simulated_returns, (1 - confidence_level) * 100)\n",
    "\n",
    "# Print results\n",
    "print(f\"Value at Risk (VaR) at {confidence_level * 100}% confidence level: {-VaR:.2f}\")\n",
    "\n",
    "# Plot histogram of the simulated returns\n",
    "plt.hist(simulated_returns, bins=50, edgecolor='black')\n",
    "plt.axvline(x=VaR, color='r', linestyle='--')\n",
    "plt.title('Monte Carlo Simulation of Portfolio Returns')\n",
    "plt.xlabel('Portfolio Return')\n",
    "plt.ylabel('Frequency')\n",
    "plt.show()\n"
   ]
  },
  {
   "cell_type": "code",
   "execution_count": null,
   "id": "4806fecd-c961-4d83-8d53-d342f41aef4a",
   "metadata": {},
   "outputs": [],
   "source": []
  },
  {
   "cell_type": "code",
   "execution_count": null,
   "id": "ec28afe1-7844-46c2-ab2d-462bb10bbf17",
   "metadata": {},
   "outputs": [],
   "source": []
  },
  {
   "cell_type": "code",
   "execution_count": null,
   "id": "12dd10fb-285b-4762-bbf4-cc7f50d3d0e5",
   "metadata": {},
   "outputs": [],
   "source": []
  },
  {
   "cell_type": "code",
   "execution_count": null,
   "id": "f63e222a-b961-451d-86de-a2de82df5c3d",
   "metadata": {},
   "outputs": [],
   "source": []
  },
  {
   "cell_type": "code",
   "execution_count": null,
   "id": "f7303ae1-25c4-46c1-9315-6d7adb2a9468",
   "metadata": {},
   "outputs": [],
   "source": []
  },
  {
   "cell_type": "code",
   "execution_count": null,
   "id": "41cca0fa-0ac5-44ab-85f0-601b0309dfcd",
   "metadata": {},
   "outputs": [],
   "source": []
  },
  {
   "cell_type": "code",
   "execution_count": null,
   "id": "e0409f3e-1245-4e93-94b2-cc7a08488cbd",
   "metadata": {},
   "outputs": [],
   "source": []
  },
  {
   "cell_type": "code",
   "execution_count": null,
   "id": "0b89ce49-1cb1-4fec-9294-f1c3791ab9d0",
   "metadata": {},
   "outputs": [],
   "source": []
  },
  {
   "cell_type": "code",
   "execution_count": null,
   "id": "a5a16a8e-9fbf-4011-9e90-358db8971feb",
   "metadata": {},
   "outputs": [],
   "source": []
  },
  {
   "cell_type": "code",
   "execution_count": null,
   "id": "caa03977-5d31-4af1-8f7c-730aa0823596",
   "metadata": {},
   "outputs": [],
   "source": []
  },
  {
   "cell_type": "code",
   "execution_count": null,
   "id": "8c17a9b3-7a98-49a8-93d8-4c60d95e664e",
   "metadata": {},
   "outputs": [],
   "source": []
  }
 ],
 "metadata": {
  "kernelspec": {
   "display_name": "Python 3 (ipykernel)",
   "language": "python",
   "name": "python3"
  },
  "language_info": {
   "codemirror_mode": {
    "name": "ipython",
    "version": 3
   },
   "file_extension": ".py",
   "mimetype": "text/x-python",
   "name": "python",
   "nbconvert_exporter": "python",
   "pygments_lexer": "ipython3",
   "version": "3.10.13"
  }
 },
 "nbformat": 4,
 "nbformat_minor": 5
}
