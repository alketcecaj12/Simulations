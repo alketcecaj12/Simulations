{
 "cells": [
  {
   "cell_type": "markdown",
   "id": "0ca42ea8-aa28-4f11-8db6-b22e987edc50",
   "metadata": {},
   "source": [
    "### Sampling with replacement\n",
    "- Bootstrapping is great for calculating confidence intervals for means; you'll now practice doing just that!"
   ]
  },
  {
   "cell_type": "code",
   "execution_count": 1,
   "id": "e3a93f90-ef48-424f-bbac-1be2f252a991",
   "metadata": {
    "scrolled": true
   },
   "outputs": [
    {
     "name": "stdout",
     "output_type": "stream",
     "text": [
      "98.74435555555554 97.74416666666667 99.81111111111112\n"
     ]
    }
   ],
   "source": [
    "import random\n",
    "import numpy as np\n",
    "import matplotlib.pyplot as plt\n",
    "nba_weights = [96.7, 101.1, 97.9, 98.1, 98.1, 100.3, 101.0, 98.0, 97.4]\n",
    "simu_weights = []\n",
    "\n",
    "\n",
    "# Sample nine values from nba_weights with replacement 1000 times\n",
    "for i in range(1000):\n",
    "    bootstrap_sample = random.choices(nba_weights, k=9)\n",
    "  \n",
    "    simu_weights.append(np.mean(bootstrap_sample))\n",
    "\n",
    "# Calculate the mean and 95% confidence interval of the mean for your results\n",
    "mean_weight = np.mean(simu_weights)\n",
    "upper = np.quantile(simu_weights, 0.975)\n",
    "lower = np.quantile(simu_weights, 0.025)\n",
    "print(mean_weight, lower, upper)"
   ]
  },
  {
   "cell_type": "code",
   "execution_count": 2,
   "id": "484d2467-3322-4b80-9b5c-6bd00cfce386",
   "metadata": {},
   "outputs": [
    {
     "name": "stderr",
     "output_type": "stream",
     "text": [
      "/Users/alket/miniconda3/envs/myenv/lib/python3.10/site-packages/seaborn/_oldcore.py:1119: FutureWarning: use_inf_as_na option is deprecated and will be removed in a future version. Convert inf values to NaN before operating instead.\n",
      "  with pd.option_context('mode.use_inf_as_na', True):\n"
     ]
    },
    {
     "data": {
      "image/png": "[encoded data removed]",
      "text/plain": [
       "<Figure size 500x500 with 1 Axes>"
      ]
     },
     "metadata": {},
     "output_type": "display_data"
    }
   ],
   "source": [
    "import seaborn as sns\n",
    "# Plot the distribution of the simulated weights\n",
    "sns.displot(simu_weights)\n",
    "\n",
    "# Plot vertical lines for the 95% confidence intervals and mean\n",
    "plt.axvline(lower, color=\"red\")\n",
    "plt.axvline(upper, color=\"red\")\n",
    "plt.axvline(mean_weight, color=\"green\")\n",
    "plt.show()"
   ]
  },
  {
   "cell_type": "markdown",
   "id": "d9435d7f-42d2-4425-8146-f019c52c819d",
   "metadata": {},
   "source": [
    "## Permutation practice\n",
    "Are NBA players heavier than US adult males? You are now interested in calculating the 95% confidence interval of the mean difference (in kilograms) between NBA\n",
    "players and US adult males. Use the two lists provided.\n",
    "\n",
    "Permutation is great when testing for difference, so that's the resampling method you'll use here!\n",
    "\n",
    "Note that each of the above lists has 13 weights listed."
   ]
  },
  {
   "cell_type": "code",
   "execution_count": 3,
   "id": "4ed241bc-647e-4ce8-b148-56492ef66e92",
   "metadata": {},
   "outputs": [],
   "source": [
    "nba_weights = [96.7, 101.1, 97.9, 98.1, 98.1, 100.3, 101.0, 98.0, 97.4, 100.5, 100.3, 100.2, 100.6]\n",
    "us_adult_weights = [75.1, 100.1, 95.2, 81.0, 72.0, 63.5, 80.0, 97.1, 94.3, 80.3, 93.5, 85.8, 95.1]"
   ]
  },
  {
   "cell_type": "code",
   "execution_count": 4,
   "id": "f1bcbc7a-3cb4-49b7-bf80-18d7a92f1880",
   "metadata": {},
   "outputs": [
    {
     "name": "stdout",
     "output_type": "stream",
     "text": [
      "13.630769230769246 -8.184999999999999 7.708076923076914\n"
     ]
    }
   ],
   "source": [
    "# Define all_weights\n",
    "all_weights = us_adult_weights + nba_weights\n",
    "simu_diff = []\n",
    "\n",
    "for i in range(1000):\n",
    "    # Perform the permutation on all_weights\n",
    "    perm_sample = np.random.permutation(all_weights)\n",
    "    # Assign the permutated samples to perm_nba and perm_adult\n",
    "    perm_nba, perm_adult = perm_sample[0:13], perm_sample[13:26]\n",
    "    perm_diff = np.mean(perm_nba) - np.mean(perm_adult)\n",
    "    simu_diff.append(perm_diff)\n",
    "mean_diff = np.mean(nba_weights) - np.mean(us_adult_weights) \n",
    "upper = np.quantile(simu_diff, 0.975)\n",
    "lower = np.quantile(simu_diff, 0.025)\n",
    "print(mean_diff, lower, upper)"
   ]
  },
  {
   "cell_type": "markdown",
   "id": "2bbd1f86-c855-4804-a682-68f761a380f2",
   "metadata": {},
   "source": [
    "You can see that the mean difference lies outside the 95% confidence interval, suggesting that given these two lists of samples, the NBA players' mean weight is significantly different from the average US adult males'!"
   ]
  },
  {
   "cell_type": "markdown",
   "id": "dea4635c-cb16-4517-a72b-8b5c3a62d74a",
   "metadata": {},
   "source": [
    "### Paired dice simulation\n",
    "Similar to the example in the lesson, you will roll two dice from two bags, and each bag contains three biased dice.\n",
    "\n",
    "- bag1 = [[1, 2, 3, 6, 6, 6], [1, 2, 3, 4, 4, 6], [1, 2, 3, 3, 3, 5]]\n",
    "- bag2 = [[2, 2, 3, 4, 5, 6], [3, 3, 3, 4, 4, 5], [1, 1, 2, 4, 5, 5]]\n",
    "\n",
    "\n",
    "The difference is that the dice in the two bags are paired: if you pick the second die in bag1, you will also pick the second die in bag2. In each trial:\n",
    "\n",
    "You pick one pair of dice from the two bags randomly and roll them\n",
    "Success occurs if the points on dice1 and dice2 add up to eight; otherwise, failure\n",
    "Your task is to complete the for-loop in the roll_paired_biased_dice() function and to use this function to calculate the probabilities of success for each unique combination of points on dice1 and dice2."
   ]
  },
  {
   "cell_type": "code",
   "execution_count": 5,
   "id": "e31e847a-21e8-4894-ba2b-853c3e50d3d6",
   "metadata": {},
   "outputs": [],
   "source": [
    "# thre biased dies in two bags each\n",
    "bag1 = [[1, 2, 3, 6, 6, 6], [1, 2, 3, 4, 4, 6], [1, 2, 3, 3, 3, 5]]\n",
    "bag2 = [[2, 2, 3, 4, 5, 6], [3, 3, 3, 4, 4, 5], [1, 1, 2, 4, 5, 5]]"
   ]
  },
  {
   "cell_type": "code",
   "execution_count": 6,
   "id": "671bc9f4-808a-41cb-9dae-63613704a089",
   "metadata": {},
   "outputs": [],
   "source": [
    "import pandas as pd\n",
    "def roll_paired_biased_dice(n, seed=1231):\n",
    "    random.seed(seed)\n",
    "    results = {}\n",
    "    for i in range(n):\n",
    "        bag_index = random.randint(0, 1)\n",
    "        # Obtain the dice indices\n",
    "        dice_index1 = random.randint(0, 5)\n",
    "        dice_index2 = random.randint(0, 5)\n",
    "        # Sample a pair of dice from bag1 and bag2\n",
    "        point1 = bag1[bag_index][dice_index1]\n",
    "        point2 = bag2[bag_index][dice_index2]\n",
    "        key = \"%s_%s\" % (point1, point2)\n",
    "        if point1 + point2 == 8: \n",
    "            if key not in results:\n",
    "                results[key] = 1\n",
    "            else:\n",
    "                results[key] += 1\n",
    "    return(pd.DataFrame.from_dict({'dice1_dice2':results.keys(),\n",
    "\t\t'probability_of_success':np.array(list(results.values()))*100.0/n}))"
   ]
  },
  {
   "cell_type": "code",
   "execution_count": 7,
   "id": "8115de97-a237-4472-b808-b989b47d5b1d",
   "metadata": {},
   "outputs": [
    {
     "data": {
      "image/png": "[encoded data removed]",
      "text/plain": [
       "<Figure size 640x480 with 1 Axes>"
      ]
     },
     "metadata": {},
     "output_type": "display_data"
    }
   ],
   "source": [
    "def roll_paired_biased_dice(n, seed=1231):  \n",
    "    results = {}\n",
    "    random.seed(seed)\n",
    "    for i in range(n):\n",
    "        bag_index = random.randint(0, 1)\n",
    "        dice_index1 = random.randint(0, 5)\n",
    "        dice_index2 = random.randint(0, 5)\n",
    "        point1 = bag1[bag_index][dice_index1]\n",
    "        point2 = bag2[bag_index][dice_index2]\n",
    "        key = \"%s_%s\" % (point1, point2)\n",
    "        if point1 + point2 == 8: \n",
    "            if key not in results:\n",
    "                results[key] = 1\n",
    "            else:\n",
    "                results[key] += 1\n",
    "    return(pd.DataFrame.from_dict({\"dice1_dice2\":results.keys(),\n",
    "\t\t\"probability_of_success\":np.array(list(results.values()))*100.0/n}))\n",
    "\n",
    "# Run the simulation 10,000 times and assign the result to df_results\n",
    "df_results = roll_paired_biased_dice(10000)\n",
    "sns.barplot(x=\"dice1_dice2\", y=\"probability_of_success\", data=df_results)\n",
    "plt.show()"
   ]
  },
  {
   "cell_type": "markdown",
   "id": "87094030-5be7-4a90-8b6d-c961eaa63c19",
   "metadata": {},
   "source": [
    "### Computing Pi"
   ]
  },
  {
   "cell_type": "code",
   "execution_count": 8,
   "id": "7ae70e15-e7a7-4ef5-89df-838be8c9c5fe",
   "metadata": {},
   "outputs": [
    {
     "name": "stdout",
     "output_type": "stream",
     "text": [
      "3.142038\n"
     ]
    }
   ],
   "source": [
    "n = 4000000\n",
    "circle_points = 0 \n",
    "square_points = 0 \n",
    "for i in range(n):\n",
    "    x = random.uniform(-1, 1)\n",
    "    y = random.uniform(-1, 1)\n",
    "    dist_from_origin = x**2 + y**2\n",
    "    # Increment circle_points for any point with a distance from origin of less than .75\n",
    "    if dist_from_origin < 1:\n",
    "        circle_points += 1\n",
    "    square_points += 1\n",
    "pi = 4 * circle_points / square_points\n",
    "print(pi)"
   ]
  },
  {
   "cell_type": "code",
   "execution_count": null,
   "id": "86b884a5-54c1-4c8c-93d5-fa4989911318",
   "metadata": {},
   "outputs": [],
   "source": []
  },
  {
   "cell_type": "code",
   "execution_count": null,
   "id": "973a46fb-5880-4f1f-a12e-1aa9129e2258",
   "metadata": {},
   "outputs": [],
   "source": []
  },
  {
   "cell_type": "code",
   "execution_count": null,
   "id": "cef13944-b6cc-454a-bc02-3bd66c6b0c71",
   "metadata": {},
   "outputs": [],
   "source": []
  },
  {
   "cell_type": "code",
   "execution_count": null,
   "id": "5be23337-9105-4f3c-994d-3fa04ecbf90b",
   "metadata": {},
   "outputs": [],
   "source": []
  },
  {
   "cell_type": "code",
   "execution_count": null,
   "id": "6d871f38-b52f-4382-aa50-a9823cb4386e",
   "metadata": {},
   "outputs": [],
   "source": []
  },
  {
   "cell_type": "code",
   "execution_count": null,
   "id": "4fa5052b-da23-442c-8deb-6fbf85ca0e84",
   "metadata": {},
   "outputs": [],
   "source": []
  },
  {
   "cell_type": "code",
   "execution_count": null,
   "id": "0322ab23-9522-4790-ac38-2797cee164f5",
   "metadata": {},
   "outputs": [],
   "source": []
  }
 ],
 "metadata": {
  "kernelspec": {
   "display_name": "Python 3 (ipykernel)",
   "language": "python",
   "name": "python3"
  },
  "language_info": {
   "codemirror_mode": {
    "name": "ipython",
    "version": 3
   },
   "file_extension": ".py",
   "mimetype": "text/x-python",
   "name": "python",
   "nbconvert_exporter": "python",
   "pygments_lexer": "ipython3",
   "version": "3.10.13"
  }
 },
 "nbformat": 4,
 "nbformat_minor": 5
}
